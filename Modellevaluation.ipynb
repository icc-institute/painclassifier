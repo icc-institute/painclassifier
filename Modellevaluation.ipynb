{
 "cells": [
  {
   "cell_type": "code",
   "execution_count": 1,
   "metadata": {},
   "outputs": [],
   "source": [
    "import pandas as pd\n",
    "import numpy as np\n",
    "\n",
    "#from scipy.spatial import procrustes\n",
    "\n",
    "import matplotlib.pyplot as plt\n",
    "\n",
    "from joblib import load\n",
    "from sklearn.metrics import plot_confusion_matrix\n",
    "from sklearn.metrics import classification_report\n",
    "from sklearn.model_selection import train_test_split\n",
    "from sklearn.model_selection import LeaveOneGroupOut"
   ]
  },
  {
   "cell_type": "code",
   "execution_count": 2,
   "metadata": {},
   "outputs": [],
   "source": [
    "# Laden der Input-Features, Konvertierung zu ndarray\n",
    "\n",
    "df = pd.read_csv(\"results_facemesh.csv\", dtype={\"relative_filepath\": str, \"facs_str\": str})\n",
    "df = df[~df.l_1_x.isnull()]\n",
    "df[\"study_participant\"] = df.relative_filepath.apply(lambda fpath: int(fpath[:3]))\n",
    "X_all = df[[*[col for col in df.columns if \"_x\" in col or \"_y\" in col or \"_z\" in col]]].values\n",
    "\n",
    "X_norm = np.loadtxt('X_norm.txt')\n",
    "pain_present = np.loadtxt('pain_present.txt')\n",
    "mean_faces = np.loadtxt('mean_faces.txt')"
   ]
  },
  {
   "cell_type": "code",
   "execution_count": null,
   "metadata": {},
   "outputs": [],
   "source": [
    "%matplotlib inline\n",
    "\n",
    "# Laden der Modelle und Plots\n",
    "\n",
    "X_all_mean = np.hstack([mean_faces, X_all])\n",
    "X_norm_mean = np.hstack([mean_faces, X_norm])\n",
    "\n",
    "cv = LeaveOneGroupOut()\n",
    "\n",
    "expand_features = True\n",
    "class_weights = \"_scaledPSPI\"\n",
    "eval_metric = \"auc\"  # \"aucpr\"\n",
    "model_name_fmt = (f\"models/models_pain_classifier/pain_mean_norm_fishyFalse\"\n",
    "                  f\"_expand{expand_features}{class_weights}\"\n",
    "                  f\"_{eval_metric}_fold{{}}.joblib\")\n",
    "#fig, axarr = plt.subplots(nrows=5, ncols=5, figsize=(15 ,15), sharex=True, sharey=True)\n",
    "for i, (train, test) in enumerate(cv.split(X_all_mean, pain_present, groups=df.study_participant)):\n",
    "    model_fname = model_name_fmt.format(i)\n",
    "  #  ax = axarr[i // 5, i % 5]\n",
    "    \n",
    "    \n",
    "#X_train, X_test, y_train, y_test = train_test_split(X_all_mean, pain_present, test_size=0.2, random_state=42)\n",
    "#X_train2, X_test2, y_train2, y_test2 = train_test_split(X_norm_mean, pain_present, test_size=0.2, random_state=42)\n",
    "\n",
    "pipe1 = load('models/pain_mean_procrustes.joblib')\n",
    "pipe2 = load('models/au9.joblib')\n",
    "pipe3 = load('models/pain_mean_norm.joblib')\n",
    "    \n",
    "y_pred1 = pipe1.predict(X_all_mean[test])\n",
    "y_pred2 = pipe2.predict(X_all_mean[test])\n",
    "y_pred3 = pipe3.predict(X_norm_mean[test])\n",
    "y_true = pain_present[test]\n",
    "    \n",
    "plot_confusion_matrix(pipe1, X_all_mean[test], pain_present[test])\n",
    "plot_confusion_matrix(pipe2, X_all_mean[test], pain_present[test])\n",
    "plot_confusion_matrix(pipe3, X_norm_mean[test], pain_present[test])\n",
    "\n",
    "print(classification_report(y_true, y_pred1, target_names = None))\n",
    "print(classification_report(y_true, y_pred2, target_names = None))\n",
    "print(classification_report(y_true, y_pred3, target_names = None))\n",
    "\n",
    "print(pipe1.score(X_all_mean[test], pain_present[test]) )\n",
    "print(pipe2.score(X_all_mean[test], pain_present[test]))\n",
    "print(pipe3.score(X_norm_mean[test], pain_present[test]))"
   ]
  },
  {
   "cell_type": "code",
   "execution_count": null,
   "metadata": {},
   "outputs": [],
   "source": [
    "#from scikitplot.metrics import plot_roc_curve\n",
    "from sklearn.metrics import plot_roc_curve, auc\n",
    "\n",
    "pain2=pain_present.astype(int)\n",
    "plot_roc_curve(pipe,X_all_mean[test], pain_present[test])\n",
    "                        #name=f\"LOGO subj. {subjects[i]} fold {i}\",\n",
    "                        #alpha=0.6, lw=1, ax=ax)\n",
    "\n",
    "                    "
   ]
  },
  {
   "cell_type": "code",
   "execution_count": 13,
   "metadata": {},
   "outputs": [
    {
     "name": "stdout",
     "output_type": "stream",
     "text": [
      "0.9929203539823008\n",
      "0.41238938053097346\n",
      "0.6837758112094395\n"
     ]
    }
   ],
   "source": [
    "print(pipe1.score(X_all_mean[test], pain_present[test]) )\n",
    "print(pipe2.score(X_all_mean[test], pain_present[test]))\n",
    "print(pipe3.score(X_norm_mean[test], pain_present[test]))"
   ]
  }
 ],
 "metadata": {
  "kernelspec": {
   "display_name": "Python [conda env:pain]",
   "language": "python",
   "name": "conda-env-pain-py"
  },
  "language_info": {
   "codemirror_mode": {
    "name": "ipython",
    "version": 3
   },
   "file_extension": ".py",
   "mimetype": "text/x-python",
   "name": "python",
   "nbconvert_exporter": "python",
   "pygments_lexer": "ipython3",
   "version": "3.6.13"
  },
  "vscode": {
   "interpreter": {
    "hash": "863c6514f4fc396b0689a7c7b4cd334d7227e27fa6dfe68655988b42e190ec2d"
   }
  }
 },
 "nbformat": 4,
 "nbformat_minor": 4
}
